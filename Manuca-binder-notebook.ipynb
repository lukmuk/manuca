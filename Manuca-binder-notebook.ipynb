{
 "cells": [
  {
   "cell_type": "markdown",
   "id": "db4f5b4f-b0b2-48b2-88eb-b778ba742ca5",
   "metadata": {},
   "source": [
    "# Manuca\n",
    "\n",
    "This is a notebook to run Manuca on Binder.\n",
    "\n",
    "\n",
    "  - Run the follwing cell (`%run -i manuca.py`) with `SHIFT+ENTER`.\n",
    "  - Then enter a stoichiometry and confirm with `ENTER`.\n",
    "  - Enter `q` to quit."
   ]
  },
  {
   "cell_type": "code",
   "execution_count": null,
   "id": "aef51483-b538-4848-b340-14c9fb388444",
   "metadata": {},
   "outputs": [],
   "source": [
    "%run -i manuca.py"
   ]
  },
  {
   "cell_type": "markdown",
   "id": "2b570a40-ce51-43d1-ae2d-2d0997294eec",
   "metadata": {},
   "source": [
    "#### Optional: Create the ultra-high-entropy alloy string, i.e. the periodic table:"
   ]
  },
  {
   "cell_type": "code",
   "execution_count": 6,
   "id": "4854b8d8-e0f7-488b-9e24-b1b8b5fd53f1",
   "metadata": {},
   "outputs": [
    {
     "name": "stdout",
     "output_type": "stream",
     "text": [
      "HHeLiBeBCNOFNeNaMgAlSiPSClArKCaScTiVCrMnFeCoNiCuZnGaGeAsSeBrKrRbSrYZrNbMoTcRuRhPdAgCdInSnSbTeIXeCsBaLaCePrNdPmSmEuGdTbDyHoErTmYbLuHfTaWReOsIrPtAuHgTlPbBiPoAtRnFrRaAcThPaUNpPuAmCmBkCfEsFmMdNoLrRfDbSgBhHsMtDsRgCnNhFlMcLvTsOg\n"
     ]
    }
   ],
   "source": [
    "from mendeleev.fetch import fetch_table\n",
    "df = fetch_table('elements') #pandas data frame\n",
    "print(''.join(df['symbol'].to_list()))"
   ]
  }
 ],
 "metadata": {
  "kernelspec": {
   "display_name": "Python 3 (ipykernel)",
   "language": "python",
   "name": "python3"
  },
  "language_info": {
   "codemirror_mode": {
    "name": "ipython",
    "version": 3
   },
   "file_extension": ".py",
   "mimetype": "text/x-python",
   "name": "python",
   "nbconvert_exporter": "python",
   "pygments_lexer": "ipython3",
   "version": "3.9.6"
  }
 },
 "nbformat": 4,
 "nbformat_minor": 5
}
