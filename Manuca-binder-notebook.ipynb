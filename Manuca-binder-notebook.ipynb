{
 "cells": [
  {
   "cell_type": "markdown",
   "id": "db4f5b4f-b0b2-48b2-88eb-b778ba742ca5",
   "metadata": {},
   "source": [
    "# Manuca\n",
    "\n",
    "This is a notebook to run Manuca on Binder.\n",
    "\n",
    "\n",
    "  - Run the follwing cell (`%run -i manuca.py`) with `SHIFT+ENTER`.\n",
    "  - Then enter a stoichiometry and confirm with `ENTER`.\n",
    "  - Enter `q` to quit."
   ]
  },
  {
   "cell_type": "code",
   "execution_count": null,
   "id": "aef51483-b538-4848-b340-14c9fb388444",
   "metadata": {},
   "outputs": [
    {
     "name": "stdout",
     "output_type": "stream",
     "text": [
      "Manuca - Mean Atomic Number calculator (v0.14)\n",
      "Enter \"help\" to show further information. Enter \"q\" to quit. Enter \"multi\" to construct a multi-compound sample.\n",
      "Manuca comes without any warranty for correctness. PLEASE double-check the outputs and if the input stoichiometry is read in correctly.\n"
     ]
    },
    {
     "name": "stdin",
     "output_type": "stream",
     "text": [
      "Enter stoichiometry:  CsPbI3\n"
     ]
    },
    {
     "name": "stdout",
     "output_type": "stream",
     "text": [
      "Chemical formula:\n",
      "{'Cs': 1.0, 'Pb': 1.0, 'I': 3.0}\n",
      "------------------------------\n",
      "Element\t at.%\t wt.%\n",
      "Cs \t 20.0 \t 18.44\n",
      "Pb \t 20.0 \t 28.75\n",
      "I \t 60.0 \t 52.82\n",
      "------------------------------\n",
      "Mean atomic numbers:\n",
      "------------------------------\n",
      "Atomic-percent average:\t59.2\n",
      "Mueller (1954):\t\t61.705\n",
      "Saldick & Allen (1954):\t61.405\n",
      "Joyet (1953):\t\t60.293\n",
      "Everhart (1960):\t64.407\n",
      "Donovan (2003):\t\t60.926\n",
      "------------------------------\n",
      "Zeff (el, Langmore):\t59.727\n",
      "Zeff (inel, Egerton):\t59.81\n",
      "------------------------------\n",
      "Other properties:\n",
      "Aeff (inel, Egerton):\t146.064\n",
      "Tot. A (g/mol):\t\t720.819\n",
      "Avg. A (g/mol):\t\t144.164\n",
      "BSE yield:\t\t0.4487\n",
      "==============================\n",
      "\n"
     ]
    },
    {
     "name": "stdin",
     "output_type": "stream",
     "text": [
      "Enter stoichiometry:  Au\n"
     ]
    },
    {
     "name": "stdout",
     "output_type": "stream",
     "text": [
      "Chemical formula:\n",
      "{'Au': 1.0}\n",
      "------------------------------\n",
      "Element\t at.%\t wt.%\n",
      "Au \t 100.0 \t 100.0\n",
      "------------------------------\n",
      "Mean atomic numbers:\n",
      "------------------------------\n",
      "Atomic-percent average:\t79.0\n",
      "Mueller (1954):\t\t79.0\n",
      "Saldick & Allen (1954):\t79.0\n",
      "Joyet (1953):\t\t79.0\n",
      "Everhart (1960):\t79.0\n",
      "Donovan (2003):\t\t79.0\n",
      "------------------------------\n",
      "Zeff (el, Langmore):\t79.0\n",
      "Zeff (inel, Egerton):\t79.0\n",
      "------------------------------\n",
      "Other properties:\n",
      "Aeff (inel, Egerton):\t196.967\n",
      "Tot. A (g/mol):\t\t196.967\n",
      "Avg. A (g/mol):\t\t196.967\n",
      "BSE yield:\t\t0.4870\n",
      "==============================\n",
      "\n"
     ]
    },
    {
     "name": "stdin",
     "output_type": "stream",
     "text": [
      "Enter stoichiometry:  CO2\n"
     ]
    },
    {
     "name": "stdout",
     "output_type": "stream",
     "text": [
      "Chemical formula:\n",
      "{'C': 1.0, 'O': 2.0}\n",
      "------------------------------\n",
      "Element\t at.%\t wt.%\n",
      "C \t 33.33 \t 27.29\n",
      "O \t 66.67 \t 72.71\n",
      "------------------------------\n",
      "Mean atomic numbers:\n",
      "------------------------------\n",
      "Atomic-percent average:\t7.333\n",
      "Mueller (1954):\t\t7.454\n",
      "Saldick & Allen (1954):\t7.455\n",
      "Joyet (1953):\t\t7.394\n",
      "Everhart (1960):\t7.561\n",
      "Donovan (2003):\t\t7.431\n",
      "------------------------------\n",
      "Zeff (el, Langmore):\t7.364\n",
      "Zeff (inel, Egerton):\t7.371\n",
      "------------------------------\n",
      "Other properties:\n",
      "Aeff (inel, Egerton):\t14.745\n",
      "Tot. A (g/mol):\t\t44.009\n",
      "Avg. A (g/mol):\t\t14.67\n",
      "BSE yield:\t\t0.0839\n",
      "==============================\n",
      "\n"
     ]
    },
    {
     "name": "stdin",
     "output_type": "stream",
     "text": [
      "Enter stoichiometry:  H2O\n"
     ]
    },
    {
     "name": "stdout",
     "output_type": "stream",
     "text": [
      "Chemical formula:\n",
      "{'H': 2.0, 'O': 1.0}\n",
      "------------------------------\n",
      "Element\t at.%\t wt.%\n",
      "H \t 66.67 \t 11.19\n",
      "O \t 33.33 \t 88.81\n",
      "------------------------------\n",
      "Mean atomic numbers:\n",
      "------------------------------\n",
      "Atomic-percent average:\t3.333\n",
      "Mueller (1954):\t\t7.217\n",
      "Saldick & Allen (1954):\t6.6\n",
      "Joyet (1953):\t\t4.69\n",
      "Everhart (1960):\t7.891\n",
      "Donovan (2003):\t\t6.076\n",
      "------------------------------\n",
      "Zeff (el, Langmore):\t4.069\n",
      "Zeff (inel, Egerton):\t4.379\n",
      "------------------------------\n",
      "Other properties:\n",
      "Aeff (inel, Egerton):\t9.013\n",
      "Tot. A (g/mol):\t\t18.015\n",
      "Avg. A (g/mol):\t\t6.005\n",
      "BSE yield:\t\t0.0807\n",
      "==============================\n",
      "\n"
     ]
    }
   ],
   "source": [
    "%run -i manuca.py"
   ]
  },
  {
   "cell_type": "markdown",
   "id": "2b570a40-ce51-43d1-ae2d-2d0997294eec",
   "metadata": {},
   "source": [
    "#### Optional: Create the ultra-high-entropy alloy string, i.e. the periodic table:"
   ]
  },
  {
   "cell_type": "code",
   "execution_count": 6,
   "id": "4854b8d8-e0f7-488b-9e24-b1b8b5fd53f1",
   "metadata": {},
   "outputs": [
    {
     "name": "stdout",
     "output_type": "stream",
     "text": [
      "HHeLiBeBCNOFNeNaMgAlSiPSClArKCaScTiVCrMnFeCoNiCuZnGaGeAsSeBrKrRbSrYZrNbMoTcRuRhPdAgCdInSnSbTeIXeCsBaLaCePrNdPmSmEuGdTbDyHoErTmYbLuHfTaWReOsIrPtAuHgTlPbBiPoAtRnFrRaAcThPaUNpPuAmCmBkCfEsFmMdNoLrRfDbSgBhHsMtDsRgCnNhFlMcLvTsOg\n"
     ]
    }
   ],
   "source": [
    "from mendeleev.fetch import fetch_table\n",
    "df = fetch_table('elements') #pandas data frame\n",
    "print(''.join(df['symbol'].to_list()))"
   ]
  }
 ],
 "metadata": {
  "kernelspec": {
   "display_name": "Python 3",
   "language": "python",
   "name": "python3"
  },
  "language_info": {
   "codemirror_mode": {
    "name": "ipython",
    "version": 3
   },
   "file_extension": ".py",
   "mimetype": "text/x-python",
   "name": "python",
   "nbconvert_exporter": "python",
   "pygments_lexer": "ipython3",
   "version": "3.9.13"
  }
 },
 "nbformat": 4,
 "nbformat_minor": 5
}
